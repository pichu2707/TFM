{
 "cells": [
  {
   "cell_type": "code",
   "execution_count": 1,
   "id": "c6c536bd",
   "metadata": {},
   "outputs": [],
   "source": [
    "from selenium.webdriver.common.by import By\n",
    "import time\n",
    "from datetime import datetime,timezone\n",
    "from os import name\n",
    "from selenium import webdriver\n",
    "from selenium.webdriver.support.ui import WebDriverWait\n",
    "from selenium.webdriver.support import expected_conditions as EC\n",
    "import json\n",
    "import requests\n",
    "import mysql.connector\n",
    "\n",
    "import sys\n",
    "import os\n",
    "from twocaptcha import TwoCaptcha\n",
    "import pandas as pd\n"
   ]
  },
  {
   "cell_type": "code",
   "execution_count": 2,
   "id": "17df9e1e",
   "metadata": {},
   "outputs": [],
   "source": [
    "def crear_driver_chrome(headless=True):\n",
    "    # for windows\n",
    "    if name == 'nt':\n",
    "        PATH = r\"chromedriver.exe\"\n",
    "\n",
    "    # for mac and linux(here, os.name is 'posix')\n",
    "    else:\n",
    "        PATH = r\"./chromedriver\"\n",
    "\n",
    "    options = webdriver.ChromeOptions()\n",
    "    if headless:\n",
    "        options.add_argument('--no-sandbox')\n",
    "        options.add_argument('--headless')\n",
    "        options.add_argument('--disable-gpu')\n",
    "        options.add_argument('--disable-dev-shm-usage')\n",
    "    \n",
    "    options.add_experimental_option('excludeSwitches', ['enable-logging'])\n",
    "\n",
    "    options.add_argument('--lang=es')\n",
    "    options.add_experimental_option('prefs', {'intl.accept_languages': 'es,es_ES'})\n",
    "    \n",
    "    driver = webdriver.Chrome(executable_path=PATH, options=options)\n",
    "\n",
    "    driver.set_window_size(1920, 1080)\n",
    "    driver.maximize_window()\n",
    "\n",
    "    return driver"
   ]
  },
  {
   "cell_type": "code",
   "execution_count": 3,
   "id": "caa4eb82",
   "metadata": {},
   "outputs": [
    {
     "name": "stderr",
     "output_type": "stream",
     "text": [
      "/tmp/ipykernel_65594/3057013930.py:22: DeprecationWarning: executable_path has been deprecated, please pass in a Service object\n",
      "  driver = webdriver.Chrome(executable_path=PATH, options=options)\n"
     ]
    },
    {
     "name": "stdout",
     "output_type": "stream",
     "text": [
      "entra en web\n",
      "paso privacidad\n"
     ]
    }
   ],
   "source": [
    "#Entramos en la web\n",
    "driver = crear_driver_chrome(False)\n",
    "driver.get(\"https://prensarank.com/\")\n",
    "time.sleep(3)\n",
    "print('entra en web')\n",
    "privacidad = driver.find_element(By.XPATH, value='/html/body/div[4]/div[1]/div/nav/div[2]/button[1]')\n",
    "privacidad.click()\n",
    "time.sleep(1)\n",
    "print('paso privacidad')\n",
    "\n",
    "#ramelie721@gmail.com\n",
    "#amelie1313"
   ]
  },
  {
   "cell_type": "code",
   "execution_count": 4,
   "id": "512ac9be",
   "metadata": {},
   "outputs": [],
   "source": [
    "#Entrando en la parte privada de Prensarank\n",
    "driver.find_element(By.NAME, 'login_email').send_keys('ramelie721@gmail.com')\n",
    "time.sleep(2)\n",
    "driver.find_element(By.NAME, 'login_password').send_keys('amelie1313')\n",
    "time.sleep(2)\n",
    "logear = driver.find_element(By.XPATH, '//*[@id=\"loginForm\"]/div[5]/button')\n",
    "logear.click()\n",
    "time.sleep(4)"
   ]
  },
  {
   "cell_type": "code",
   "execution_count": 5,
   "id": "00e0dca5",
   "metadata": {},
   "outputs": [],
   "source": [
    "#Aceptando las cookies\n",
    "cookies_yes = driver.find_element(By.XPATH, '//*[@id=\"main-wrapper\"]/div/div/div[3]/div/a[1]')\n",
    "cookies_yes.click()\n",
    "time.sleep(1)"
   ]
  },
  {
   "cell_type": "code",
   "execution_count": 6,
   "id": "8ed5a70e",
   "metadata": {},
   "outputs": [],
   "source": [
    "#Clic en el menú Medios y Blog\n",
    "menu_medios_blog = driver.find_element(By.XPATH, '/html/body/div[2]/aside/div/nav/ul/li[2]')\n",
    "menu_medios_blog.click()\n",
    "time.sleep(2)"
   ]
  },
  {
   "cell_type": "code",
   "execution_count": 7,
   "id": "665558fa",
   "metadata": {},
   "outputs": [],
   "source": [
    "def get_estructura_ths_thead(tr):\n",
    "    datos = []\n",
    "\n",
    "    ths = tr.find_elements(By.TAG_NAME, 'th')\n",
    "\n",
    "    for td in ths:\n",
    "        datos.append(td.text)\n",
    "\n",
    "    return datos"
   ]
  },
  {
   "cell_type": "code",
   "execution_count": 8,
   "id": "cdc6f355",
   "metadata": {},
   "outputs": [],
   "source": [
    "def get_estructura_tds_tbody(tr):\n",
    "    datos = []\n",
    "\n",
    "    tds = tr.find_elements(By.TAG_NAME, 'td')\n",
    "\n",
    "    for td in tds:\n",
    "        datos.append(td.text)\n"
   ]
  },
  {
   "cell_type": "code",
   "execution_count": 9,
   "id": "dbfebc3e",
   "metadata": {},
   "outputs": [],
   "source": [
    "def get_estructura_ths_thead_arr_pos_cabeceras(tr):\n",
    "    arrPosCabeceras = {}\n",
    "    contador = 0\n",
    "\n",
    "    tds = tr.find_elements(By.TAG_NAME, 'th')\n",
    "\n",
    "    for td in tds:\n",
    "        arrPosCabeceras[td.text] = contador\n",
    "        contador += 1\n",
    "\n",
    "    return arrPosCabeceras"
   ]
  },
  {
   "cell_type": "code",
   "execution_count": 10,
   "id": "189177d6",
   "metadata": {},
   "outputs": [],
   "source": [
    "def comprobar_estructora_sin_cambios(estructura):\n",
    "    estructuraSinCambios = False\n",
    "    if(estructura == ['NOMBRE', 'PAÍS', 'DR', 'DA', 'CF', 'TF', 'OBL', 'RD', 'TRÁFICO', 'PRECIO', '']):\n",
    "        estructuraSinCambios = True\n",
    "    return estructuraSinCambios\n"
   ]
  },
  {
   "cell_type": "code",
   "execution_count": 11,
   "id": "49e94efe",
   "metadata": {},
   "outputs": [],
   "source": [
    "def get_list_from_trsBody(trsBody, arrPosCabeceras):\n",
    "    arrMedios = []\n",
    "\n",
    "    for tr in trsBody:\n",
    "        arrMedio = {}\n",
    "        tds = tr.find_elements_by_tag_name('td')\n",
    "        arrMedio['NOMBRE'] = tds[arrPosCabeceras['NOMBRE']].text\n",
    "        arrMedio['PAÍS'] = tds[arrPosCabeceras['PAÍS']].text\n",
    "        arrMedio['DR'] = tds[arrPosCabeceras['DR']].text\n",
    "        arrMedio['DA'] = tds[arrPosCabeceras['DA']].text\n",
    "        arrMedio['CF'] = tds[arrPosCabeceras['CF']].text\n",
    "        arrMedio['TF'] = tds[arrPosCabeceras['TF']].text\n",
    "        arrMedio['OBL'] = tds[arrPosCabeceras['OBL']].text\n",
    "        arrMedio['RD'] = tds[arrPosCabeceras['RD']].text\n",
    "        arrMedio['TRÁFICO'] = tds[arrPosCabeceras['TRÁFICO']].text\n",
    "        arrMedio['PRECIO'] = tds[arrPosCabeceras['PRECIO']].text\n",
    "\n",
    "        buttonInfoWeb = tds[arrPosCabeceras['']].find_element_by_class_name('buttonInfoWeb')\n",
    "\n",
    "        arrMedio['data-name'] = buttonInfoWeb.get_attribute('data-name')\n",
    "        arrMedio['data-country'] = buttonInfoWeb.get_attribute('data-country')\n",
    "        arrMedio['data-country'] = buttonInfoWeb.get_attribute('data-country-name')\n",
    "        arrMedio['data-url'] = buttonInfoWeb.get_attribute('data-url')\n",
    "        arrMedio['data-dr'] = buttonInfoWeb.get_attribute('data-dr')\n",
    "        arrMedio['data-da'] = buttonInfoWeb.get_attribute('data-da')\n",
    "        arrMedio['data-pa'] = buttonInfoWeb.get_attribute('data-pa')\n",
    "        arrMedio['data-traffic'] = buttonInfoWeb.get_attribute('data-traffic')\n",
    "        arrMedio['data-cf'] = buttonInfoWeb.get_attribute('data-cf')\n",
    "        arrMedio['data-tf'] = buttonInfoWeb.get_attribute('data-tf')\n",
    "        arrMedio['data-dom'] = buttonInfoWeb.get_attribute('data-dom')\n",
    "        arrMedio['data-price_user'] = buttonInfoWeb.get_attribute('data-price_user')\n",
    "        arrMedio['data-ip'] = buttonInfoWeb.get_attribute('data-ip')\n",
    "        arrMedio['data-in_front_page'] = buttonInfoWeb.get_attribute('data-in_front_page')\n",
    "        arrMedio['data-promoted'] = buttonInfoWeb.get_attribute('data-promoted')\n",
    "        arrMedio['data-webid'] = buttonInfoWeb.get_attribute('data-webid')\n",
    "        arrMedio['data-max_links'] = buttonInfoWeb.get_attribute('data-max_links')\n",
    "        arrMedios.append(arrMedio)\n",
    "    \n",
    "    return arrMedios\n"
   ]
  },
  {
   "cell_type": "code",
   "execution_count": 12,
   "id": "d30b1a71",
   "metadata": {},
   "outputs": [],
   "source": [
    "def transformar_arr_en_lista_tuplas_prensarank(arr, url_site):\n",
    "    lista = []\n",
    "\n",
    "    for medio in arr:\n",
    "        if not 'lang_filter' in medio:\n",
    "            medio['lang_filter'] = []\n",
    "        if not 'category_filter' in medio:\n",
    "            medio['category_filter'] = []\n",
    "        \n",
    "        lista.append(\n",
    "            (\n",
    "                medio['id'], \n",
    "                medio['name'], \n",
    "                medio['url'], \n",
    "                url_site, \n",
    "                medio['country']['id'], \n",
    "                medio['country']['iso'], \n",
    "                medio['country']['name'], \n",
    "                medio['dr'], \n",
    "                medio['da'], \n",
    "                medio['cf'], \n",
    "                medio['tf'], \n",
    "                medio['obl'], \n",
    "                medio['dom'], \n",
    "                medio['traffic'], \n",
    "                medio['price'], \n",
    "                medio['pa'], \n",
    "                medio['max_links'], \n",
    "                medio['max_links_groups'],\n",
    "                '-|-'.join(medio['lang_filter']),\n",
    "                '-|-'.join(medio['category_filter']),\n",
    "                medio['create_groups'], \n",
    "                medio['ip'], \n",
    "                medio['promoted'], \n",
    "                medio['offer'], \n",
    "                medio['in_front_page'], \n",
    "                medio['is_new'], \n",
    "                medio['created_at'], \n",
    "                medio['status'], \n",
    "                medio['TrType'], \n",
    "                medio['type']\n",
    "            )\n",
    "        )\n",
    "\n",
    "    return lista"
   ]
  },
  {
   "cell_type": "code",
   "execution_count": 35,
   "id": "b10ce0ab",
   "metadata": {},
   "outputs": [],
   "source": [
    "def js_function_get_medios_prensarank():\n",
    "    return \"\"\"\n",
    "        let medios = []; \n",
    "        $('#listTable').DataTable().rows().data().each(function(medio){\n",
    "            medios.push(medio);\n",
    "            });\n",
    "        return medios;\n",
    "    \"\"\""
   ]
  },
  {
   "cell_type": "code",
   "execution_count": 36,
   "id": "ea147190",
   "metadata": {},
   "outputs": [],
   "source": [
    "def js_function_get_medios_ids_prensarank():\n",
    "    return \"\"\"\n",
    "        let mediosIds = []; \n",
    "        $('#listTable').DataTable().rows().data().each(function(medio){\n",
    "            mediosIds.push(medio['id']);\n",
    "            });\n",
    "        return mediosIds;\n",
    "    \"\"\""
   ]
  },
  {
   "cell_type": "code",
   "execution_count": 37,
   "id": "3f459e90",
   "metadata": {},
   "outputs": [],
   "source": [
    "def select_change_option(agrupacionSelector, texto, estado):\n",
    "    return '$(\\'select#' + agrupacionSelector + ' option:contains(\"' + texto + '\")\\').prop(\\'selected\\', ' + estado + ').change();'"
   ]
  },
  {
   "cell_type": "code",
   "execution_count": 38,
   "id": "7a185e59",
   "metadata": {},
   "outputs": [],
   "source": [
    "def get_element_by_tipo_selector(driver, wait, tipoSelector, textoSelector):\n",
    "    try:\n",
    "        elemento = wait.until(EC.presence_of_element_located((tipoSelector, textoSelector)))\n",
    "        return elemento\n",
    "    except Exception as e:\n",
    "        pass"
   ]
  },
  {
   "cell_type": "code",
   "execution_count": 47,
   "id": "fc5e3312",
   "metadata": {},
   "outputs": [],
   "source": [
    "def get_table_data_prensarank(driver, wait):\n",
    "    dataFinal = []\n",
    "\n",
    "    # Comprobar que la tabla tenga la mimsa estructura\n",
    "    trHead = driver.find_element(By.XPATH, \"//table[@id='listTable']/thead//tr\")\n",
    "    estructura = get_estructura_ths_thead(trHead)\n",
    "\n",
    "    if(comprobar_estructora_sin_cambios(estructura)):\n",
    "        arrPosCabeceras = get_estructura_ths_thead_arr_pos_cabeceras(trHead)\n",
    "\n",
    "        btnSiguiente = driver.find_element(By.XPATH, '//li[ contains(@class, \"paginate_button page-item next\") ]')\n",
    "        while(btnSiguiente.get_attribute('class').find('disabled') == -1):\n",
    "\n",
    "            dataFinal += driver.execute_script(js_function_get_medios_prensarank())\n",
    "\n",
    "            # Click en Siguiente Página\n",
    "            driver.execute_script(\"arguments[0].click();\", btnSiguiente)\n",
    "            time.sleep(1)\n",
    "\n",
    "            btnSiguiente = get_element_by_tipo_selector(driver, wait, By.XPATH, '//li[ contains(@class, \"paginate_button page-item next\") ]')\n",
    "            return dataFinal\n",
    "        # Recoger Datos de la última página\n",
    "        dataFinal += driver.execute_script(js_function_get_medios_prensarank())\n",
    "    \n",
    "    return dataFinal"
   ]
  },
  {
   "cell_type": "code",
   "execution_count": 48,
   "id": "e6b2595e",
   "metadata": {},
   "outputs": [],
   "source": [
    "def get_table_data_ids_prensarank(driver, wait=10):\n",
    "    dataFinal = []\n",
    "\n",
    "    # Comprobar que la tabla tenga la mimsa estructura\n",
    "    trHead = driver.find_element(By.XPATH, \"//table[@id='listTable']/thead//tr\")\n",
    "    estructura = get_estructura_ths_thead(trHead)\n",
    "\n",
    "    if(comprobar_estructora_sin_cambios(estructura)):\n",
    "        arrPosCabeceras = get_estructura_ths_thead_arr_pos_cabeceras(trHead)\n",
    "\n",
    "        btnSiguiente = driver.find_element(By.XPATH, '//li[ contains(@class, \"paginate_button page-item next\") ]')\n",
    "        while(btnSiguiente.get_attribute('class').find('disabled') == -1):\n",
    "\n",
    "            dataFinal += driver.execute_script(js_function_get_medios_ids_prensarank())\n",
    "\n",
    "            # Click en Siguiente Página\n",
    "            driver.execute_script(\"arguments[0].click();\", btnSiguiente)\n",
    "            time.sleep(1)\n",
    "\n",
    "            btnSiguiente = get_element_by_tipo_selector(driver, wait, By.XPATH, '//li[ contains(@class, \"paginate_button page-item next\") ]')\n",
    "            return dataFinal\n",
    "        # Recoger Datos de la última página\n",
    "        dataFinal += driver.execute_script(js_function_get_medios_ids_prensarank())\n",
    "    \n",
    "    return dataFinal\n"
   ]
  },
  {
   "cell_type": "code",
   "execution_count": 49,
   "id": "23a57071",
   "metadata": {},
   "outputs": [],
   "source": [
    "def js_function_get_select_options(selector, valOText):\n",
    "    js = 'let options = [];'\n",
    "    js += '$(\"' + selector + '\").each(function(){'\n",
    "    js += 'options.push($(this).'+ valOText +'().trim());'\n",
    "    js += '});return options;'\n",
    "\n",
    "    return js\n"
   ]
  },
  {
   "cell_type": "code",
   "execution_count": 50,
   "id": "6120c719",
   "metadata": {},
   "outputs": [],
   "source": [
    "def get_config():\n",
    "    with open('config.json', encoding='utf-8') as json_file:\n",
    "        data = json.load(json_file)\n",
    "        escanerConfig = dict(data)\n",
    "    return escanerConfig\n"
   ]
  },
  {
   "cell_type": "code",
   "execution_count": 51,
   "id": "9720bef3",
   "metadata": {},
   "outputs": [],
   "source": [
    " escanerConfig = get_config()"
   ]
  },
  {
   "cell_type": "code",
   "execution_count": 52,
   "id": "abe2fce4",
   "metadata": {},
   "outputs": [
    {
     "name": "stdout",
     "output_type": "stream",
     "text": [
      "btnSiguiente -> <selenium.webdriver.remote.webelement.WebElement (session=\"be3cf38056a8c1a2b75d7580027e8d99\", element=\"5f5f4071-c02a-4d90-bc4b-bf56f09d38c0\")>\n",
      "paginacion prensarank-> 31\n"
     ]
    }
   ],
   "source": [
    "dataFinal = get_table_data_prensarank(driver, wait=10)"
   ]
  },
  {
   "cell_type": "code",
   "execution_count": 45,
   "id": "f64e3032",
   "metadata": {},
   "outputs": [
    {
     "name": "stdout",
     "output_type": "stream",
     "text": [
      "lang_filter\n",
      "{'tipo_lang_filter': ['Español', 'Inglés', 'Catalán', 'Italiano']}\n",
      "agrupacionesTipo -- >Español\n"
     ]
    },
    {
     "ename": "JavascriptException",
     "evalue": "Message: javascript error: Cannot read properties of null (reading 'iso')\n  (Session info: chrome=111.0.5563.64)\nStacktrace:\n#0 0x56490ff5c243 <unknown>\n#1 0x56490fd207a6 <unknown>\n#2 0x56490fd23d03 <unknown>\n#3 0x56490fd23a72 <unknown>\n#4 0x56490fd246e6 <unknown>\n#5 0x56490fd97535 <unknown>\n#6 0x56490fd7e082 <unknown>\n#7 0x56490fd96932 <unknown>\n#8 0x56490fd7de53 <unknown>\n#9 0x56490fd509ea <unknown>\n#10 0x56490fd51b2e <unknown>\n#11 0x56490ffb0d5e <unknown>\n#12 0x56490ffb4a80 <unknown>\n#13 0x56490ff968b0 <unknown>\n#14 0x56490ffb5b63 <unknown>\n#15 0x56490ff87f75 <unknown>\n#16 0x56490ffd8998 <unknown>\n#17 0x56490ffd8b27 <unknown>\n#18 0x56490fff3c23 <unknown>\n#19 0x7ff062c94b43 <unknown>\n",
     "output_type": "error",
     "traceback": [
      "\u001b[0;31m---------------------------------------------------------------------------\u001b[0m",
      "\u001b[0;31mJavascriptException\u001b[0m                       Traceback (most recent call last)",
      "Input \u001b[0;32mIn [45]\u001b[0m, in \u001b[0;36m<cell line: 4>\u001b[0;34m()\u001b[0m\n\u001b[1;32m     18\u001b[0m time\u001b[38;5;241m.\u001b[39msleep(\u001b[38;5;241m8\u001b[39m)\n\u001b[1;32m     19\u001b[0m \u001b[38;5;28mprint\u001b[39m(\u001b[38;5;124mf\u001b[39m\u001b[38;5;124m'\u001b[39m\u001b[38;5;124magrupacionesTipo -- >\u001b[39m\u001b[38;5;132;01m{\u001b[39;00magrupacionTipo\u001b[38;5;132;01m}\u001b[39;00m\u001b[38;5;124m'\u001b[39m)\n\u001b[0;32m---> 20\u001b[0m \u001b[43mdriver\u001b[49m\u001b[38;5;241;43m.\u001b[39;49m\u001b[43mexecute_script\u001b[49m\u001b[43m(\u001b[49m\u001b[43mselect_change_option\u001b[49m\u001b[43m(\u001b[49m\u001b[43magrupacion\u001b[49m\u001b[43m,\u001b[49m\u001b[43m \u001b[49m\u001b[43magrupacionTipo\u001b[49m\u001b[43m,\u001b[49m\u001b[43m \u001b[49m\u001b[38;5;124;43m'\u001b[39;49m\u001b[38;5;124;43mtrue\u001b[39;49m\u001b[38;5;124;43m'\u001b[39;49m\u001b[43m)\u001b[49m\u001b[43m)\u001b[49m\n\u001b[1;32m     21\u001b[0m time\u001b[38;5;241m.\u001b[39msleep(\u001b[38;5;241m8\u001b[39m)\n\u001b[1;32m     22\u001b[0m \u001b[38;5;28mprint\u001b[39m(time\u001b[38;5;241m.\u001b[39mstrftime(\u001b[38;5;124m\"\u001b[39m\u001b[38;5;132;01m%d\u001b[39;00m\u001b[38;5;124m/\u001b[39m\u001b[38;5;124m%\u001b[39m\u001b[38;5;124mm/\u001b[39m\u001b[38;5;124m%\u001b[39m\u001b[38;5;124my - \u001b[39m\u001b[38;5;124m%\u001b[39m\u001b[38;5;124mH:\u001b[39m\u001b[38;5;124m%\u001b[39m\u001b[38;5;124mM:\u001b[39m\u001b[38;5;124m%\u001b[39m\u001b[38;5;124mS\u001b[39m\u001b[38;5;124m\"\u001b[39m) \u001b[38;5;241m+\u001b[39m \u001b[38;5;124m'\u001b[39m\u001b[38;5;124m | Escaneando \u001b[39m\u001b[38;5;124m'\u001b[39m \u001b[38;5;241m+\u001b[39m agrupacion \u001b[38;5;241m+\u001b[39m \u001b[38;5;124m'\u001b[39m\u001b[38;5;124m -> \u001b[39m\u001b[38;5;124m'\u001b[39m \u001b[38;5;241m+\u001b[39m agrupacionTipo)\n",
      "File \u001b[0;32m~/.local/lib/python3.10/site-packages/selenium/webdriver/remote/webdriver.py:492\u001b[0m, in \u001b[0;36mWebDriver.execute_script\u001b[0;34m(self, script, *args)\u001b[0m\n\u001b[1;32m    489\u001b[0m converted_args \u001b[38;5;241m=\u001b[39m \u001b[38;5;28mlist\u001b[39m(args)\n\u001b[1;32m    490\u001b[0m command \u001b[38;5;241m=\u001b[39m Command\u001b[38;5;241m.\u001b[39mW3C_EXECUTE_SCRIPT\n\u001b[0;32m--> 492\u001b[0m \u001b[38;5;28;01mreturn\u001b[39;00m \u001b[38;5;28;43mself\u001b[39;49m\u001b[38;5;241;43m.\u001b[39;49m\u001b[43mexecute\u001b[49m\u001b[43m(\u001b[49m\u001b[43mcommand\u001b[49m\u001b[43m,\u001b[49m\u001b[43m \u001b[49m\u001b[43m{\u001b[49m\n\u001b[1;32m    493\u001b[0m \u001b[43m    \u001b[49m\u001b[38;5;124;43m'\u001b[39;49m\u001b[38;5;124;43mscript\u001b[39;49m\u001b[38;5;124;43m'\u001b[39;49m\u001b[43m:\u001b[49m\u001b[43m \u001b[49m\u001b[43mscript\u001b[49m\u001b[43m,\u001b[49m\n\u001b[1;32m    494\u001b[0m \u001b[43m    \u001b[49m\u001b[38;5;124;43m'\u001b[39;49m\u001b[38;5;124;43margs\u001b[39;49m\u001b[38;5;124;43m'\u001b[39;49m\u001b[43m:\u001b[49m\u001b[43m \u001b[49m\u001b[43mconverted_args\u001b[49m\u001b[43m}\u001b[49m\u001b[43m)\u001b[49m[\u001b[38;5;124m'\u001b[39m\u001b[38;5;124mvalue\u001b[39m\u001b[38;5;124m'\u001b[39m]\n",
      "File \u001b[0;32m~/.local/lib/python3.10/site-packages/selenium/webdriver/remote/webdriver.py:429\u001b[0m, in \u001b[0;36mWebDriver.execute\u001b[0;34m(self, driver_command, params)\u001b[0m\n\u001b[1;32m    427\u001b[0m response \u001b[38;5;241m=\u001b[39m \u001b[38;5;28mself\u001b[39m\u001b[38;5;241m.\u001b[39mcommand_executor\u001b[38;5;241m.\u001b[39mexecute(driver_command, params)\n\u001b[1;32m    428\u001b[0m \u001b[38;5;28;01mif\u001b[39;00m response:\n\u001b[0;32m--> 429\u001b[0m     \u001b[38;5;28;43mself\u001b[39;49m\u001b[38;5;241;43m.\u001b[39;49m\u001b[43merror_handler\u001b[49m\u001b[38;5;241;43m.\u001b[39;49m\u001b[43mcheck_response\u001b[49m\u001b[43m(\u001b[49m\u001b[43mresponse\u001b[49m\u001b[43m)\u001b[49m\n\u001b[1;32m    430\u001b[0m     response[\u001b[38;5;124m'\u001b[39m\u001b[38;5;124mvalue\u001b[39m\u001b[38;5;124m'\u001b[39m] \u001b[38;5;241m=\u001b[39m \u001b[38;5;28mself\u001b[39m\u001b[38;5;241m.\u001b[39m_unwrap_value(\n\u001b[1;32m    431\u001b[0m         response\u001b[38;5;241m.\u001b[39mget(\u001b[38;5;124m'\u001b[39m\u001b[38;5;124mvalue\u001b[39m\u001b[38;5;124m'\u001b[39m, \u001b[38;5;28;01mNone\u001b[39;00m))\n\u001b[1;32m    432\u001b[0m     \u001b[38;5;28;01mreturn\u001b[39;00m response\n",
      "File \u001b[0;32m~/.local/lib/python3.10/site-packages/selenium/webdriver/remote/errorhandler.py:243\u001b[0m, in \u001b[0;36mErrorHandler.check_response\u001b[0;34m(self, response)\u001b[0m\n\u001b[1;32m    241\u001b[0m         alert_text \u001b[38;5;241m=\u001b[39m value[\u001b[38;5;124m'\u001b[39m\u001b[38;5;124malert\u001b[39m\u001b[38;5;124m'\u001b[39m]\u001b[38;5;241m.\u001b[39mget(\u001b[38;5;124m'\u001b[39m\u001b[38;5;124mtext\u001b[39m\u001b[38;5;124m'\u001b[39m)\n\u001b[1;32m    242\u001b[0m     \u001b[38;5;28;01mraise\u001b[39;00m exception_class(message, screen, stacktrace, alert_text)  \u001b[38;5;66;03m# type: ignore[call-arg]  # mypy is not smart enough here\u001b[39;00m\n\u001b[0;32m--> 243\u001b[0m \u001b[38;5;28;01mraise\u001b[39;00m exception_class(message, screen, stacktrace)\n",
      "\u001b[0;31mJavascriptException\u001b[0m: Message: javascript error: Cannot read properties of null (reading 'iso')\n  (Session info: chrome=111.0.5563.64)\nStacktrace:\n#0 0x56490ff5c243 <unknown>\n#1 0x56490fd207a6 <unknown>\n#2 0x56490fd23d03 <unknown>\n#3 0x56490fd23a72 <unknown>\n#4 0x56490fd246e6 <unknown>\n#5 0x56490fd97535 <unknown>\n#6 0x56490fd7e082 <unknown>\n#7 0x56490fd96932 <unknown>\n#8 0x56490fd7de53 <unknown>\n#9 0x56490fd509ea <unknown>\n#10 0x56490fd51b2e <unknown>\n#11 0x56490ffb0d5e <unknown>\n#12 0x56490ffb4a80 <unknown>\n#13 0x56490ff968b0 <unknown>\n#14 0x56490ffb5b63 <unknown>\n#15 0x56490ff87f75 <unknown>\n#16 0x56490ffd8998 <unknown>\n#17 0x56490ffd8b27 <unknown>\n#18 0x56490fff3c23 <unknown>\n#19 0x7ff062c94b43 <unknown>\n"
     ]
    }
   ],
   "source": [
    "agrupacionesManuales = ['lang_filter', 'category_filter']\n",
    "agrupacionesDatos = {}\n",
    "\n",
    "for agrupacion in agrupacionesManuales:\n",
    "    print(agrupacion)\n",
    "    # Recoger todos los idiomas/categorias disponibles\n",
    "    agrupacionesDatos['tipo_' + agrupacion] = driver.execute_script(js_function_get_select_options('#'+agrupacion+' option','text'))\n",
    "    print(agrupacionesDatos)\n",
    "    if agrupacion == 'lang_filter':\n",
    "        for elem in escanerConfig['prensarankLangFilterExcluir']:\n",
    "            if elem in agrupacionesDatos['tipo_' + agrupacion]: agrupacionesDatos['tipo_' + agrupacion].remove(elem)\n",
    "    elif agrupacion == 'category_filter':\n",
    "        for elem in escanerConfig['prensarankCategoryFilterExcluir']:\n",
    "            if elem in agrupacionesDatos['tipo_' + agrupacion]: agrupacionesDatos['tipo_' + agrupacion].remove(elem)\n",
    "          # Cargar cada idioma/categoria y recoger las ids de los medios que aparecen en la tabla por cada filtro de cada idioma\n",
    "    agrupacionesDatos['tipo_ids_' + agrupacion] = {}\n",
    "    for agrupacionTipo in agrupacionesDatos['tipo_' + agrupacion]:\n",
    "        time.sleep(8)\n",
    "        print(f'agrupacionesTipo -- >{agrupacionTipo}')\n",
    "        driver.execute_script(select_change_option(agrupacion, agrupacionTipo, 'true'))\n",
    "        time.sleep(8)\n",
    "        print(time.strftime(\"%d/%m/%y - %H:%M:%S\") + ' | Escaneando ' + agrupacion + ' -> ' + agrupacionTipo)\n",
    "        agrupacionesDatos['tipo_ids_' + agrupacion][agrupacionTipo] = get_table_data_ids_prensarank(driver, wait=5)\n",
    "        print(f'agrupacionesDatos -- >{agrupacionesDatos}')\n",
    "        time.sleep(2)\n",
    "        driver.execute_script(select_change_option(agrupacion, agrupacionTipo, 'false'))\n",
    "        time.sleep(2)\n",
    "        "
   ]
  },
  {
   "cell_type": "code",
   "execution_count": null,
   "id": "5038e5f5",
   "metadata": {},
   "outputs": [],
   "source": [
    "agrupacionesDatos['tipo_ids_' + agrupacion]\n",
    "for idData, data in enumerate(dataFinal):\n",
    "    print(f'idData ->{idData}')\n",
    "    print(f'data ->{data}')\n",
    "    for agrupacion in agrupacionesManuales:\n",
    "        print(f'agrupacion ->{agrupacion}')\n",
    "        if dataFinal[idData]['id'] in agrupacionesDatos['tipo_ids_' + agrupacion]:\n",
    "            print(f'dataFinal -> {dataFinal}')\n",
    "            if not agrupacion in dataFinal[idData]:\n",
    "                dataFinal[idData][agrupacion] = []\n",
    "            dataFinal[idData][agrupacion].extend(agrupacionesDatos['ids_tipo_' + agrupacion][dataFinal[idData]['id']])"
   ]
  },
  {
   "cell_type": "code",
   "execution_count": null,
   "id": "68b78954",
   "metadata": {},
   "outputs": [],
   "source": [
    "dataFinalTuplas = transformar_arr_en_lista_tuplas_prensarank(dataFinal, 'https://prensarank.com/')\n",
    "dataFinalTuplas"
   ]
  },
  {
   "cell_type": "code",
   "execution_count": null,
   "id": "3743fdad",
   "metadata": {},
   "outputs": [],
   "source": [
    "import pandas as pd\n",
    "df = pd.DataFrame(dataFinalTuplas, columns=['id','name','url','urls_site','country_id', \n",
    "                'country_iso', \n",
    "                'country_name', \n",
    "                'dr', \n",
    "                'da', \n",
    "                'cf', \n",
    "                'tf', \n",
    "                'obl', \n",
    "                'dom', \n",
    "                'traffic', \n",
    "                'price', \n",
    "                'pa', \n",
    "                'max_links', \n",
    "                'max_links_groups',\n",
    "                'lang_filter',\n",
    "                'category_filter',\n",
    "                'create_groups', \n",
    "                'ip', \n",
    "                'promoted', \n",
    "                'offer', \n",
    "                'in_front_page', \n",
    "                'is_new', \n",
    "                'created_at', \n",
    "                'status', \n",
    "                'TrType', \n",
    "                'type'\n",
    "            ])"
   ]
  },
  {
   "cell_type": "code",
   "execution_count": null,
   "id": "bb9f94c2",
   "metadata": {},
   "outputs": [],
   "source": [
    "df"
   ]
  },
  {
   "cell_type": "code",
   "execution_count": null,
   "id": "3be9787a",
   "metadata": {},
   "outputs": [],
   "source": []
  }
 ],
 "metadata": {
  "kernelspec": {
   "display_name": "Python 3 (ipykernel)",
   "language": "python",
   "name": "python3"
  },
  "language_info": {
   "codemirror_mode": {
    "name": "ipython",
    "version": 3
   },
   "file_extension": ".py",
   "mimetype": "text/x-python",
   "name": "python",
   "nbconvert_exporter": "python",
   "pygments_lexer": "ipython3",
   "version": "3.10.6"
  }
 },
 "nbformat": 4,
 "nbformat_minor": 5
}
